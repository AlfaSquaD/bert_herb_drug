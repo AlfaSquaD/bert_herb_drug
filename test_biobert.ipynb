{
 "cells": [
  {
   "cell_type": "code",
   "execution_count": null,
   "metadata": {},
   "outputs": [],
   "source": []
  }
 ],
 "metadata": {
  "kernelspec": {
   "display_name": "Python 3.9.7 ('base')",
   "language": "python",
   "name": "python3"
  },
  "language_info": {
   "name": "python",
   "version": "3.9.7"
  },
  "orig_nbformat": 4,
  "vscode": {
   "interpreter": {
    "hash": "972b6de16a1878fa6fcdbb27b0b6b0b2aa35566bf75b52396f9f47d7f37db45e"
   }
  }
 },
 "nbformat": 4,
 "nbformat_minor": 2
}
